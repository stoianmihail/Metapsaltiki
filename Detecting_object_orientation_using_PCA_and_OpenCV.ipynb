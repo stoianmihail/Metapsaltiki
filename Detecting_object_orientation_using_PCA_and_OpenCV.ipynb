{
  "cells": [
    {
      "cell_type": "code",
      "execution_count": 1,
      "metadata": {
        "id": "1ytmDzjf-QHI"
      },
      "outputs": [],
      "source": [
        "import numpy as np\n",
        "# to compute angles\n",
        "from math import atan2, cos, sin, sqrt, pi\n",
        "import cv2"
      ]
    },
    {
      "cell_type": "code",
      "execution_count": 2,
      "metadata": {
        "id": "oYEBDccOl7SZ"
      },
      "outputs": [],
      "source": [
        "def ResizeWithAspectRatio(image, width=None, height=None, inter=cv2.INTER_AREA):\n",
        "    dim = None\n",
        "    (h, w) = image.shape[:2]\n",
        "\n",
        "    if width is None and height is None:\n",
        "        return image\n",
        "    if width is None:\n",
        "        r = height / float(h)\n",
        "        dim = (int(w * r), height)\n",
        "    else:\n",
        "        r = width / float(w)\n",
        "        dim = (width, int(h * r))\n",
        "\n",
        "    return cv2.resize(image, dim, interpolation=inter)\n",
        "\n",
        "def draw_axis(img, p_, q_, colour, scale):\n",
        "    p = list(p_)\n",
        "    q = list(q_)\n",
        "    \n",
        "    angle = atan2(p[1] - q[1], p[0] - q[0]) # angle in radians\n",
        "    hypotenuse = sqrt((p[1] - q[1]) * (p[1] - q[1]) + (p[0] - q[0]) * (p[0] - q[0]))\n",
        "    # Here we lengthen the arrow by a factor of scale\n",
        "    q[0] = p[0] - scale * hypotenuse * cos(angle)\n",
        "    q[1] = p[1] - scale * hypotenuse * sin(angle)\n",
        "    cv2.line(img, (int(p[0]), int(p[1])), (int(q[0]), int(q[1])), colour, 1, cv2.LINE_AA)\n",
        "    # create the arrow hooks\n",
        "    p[0] = q[0] + 9 * cos(angle + pi / 4)\n",
        "    p[1] = q[1] + 9 * sin(angle + pi / 4)\n",
        "    cv2.line(img, (int(p[0]), int(p[1])), (int(q[0]), int(q[1])), colour, 1, cv2.LINE_AA)\n",
        "    p[0] = q[0] + 9 * cos(angle - pi / 4)\n",
        "    p[1] = q[1] + 9 * sin(angle - pi / 4)\n",
        "    cv2.line(img, (int(p[0]), int(p[1])), (int(q[0]), int(q[1])), colour, 1, cv2.LINE_AA)"
      ]
    },
    {
      "cell_type": "code",
      "execution_count": 3,
      "metadata": {
        "id": "qSpQBN4HmFyg"
      },
      "outputs": [],
      "source": [
        "def get_orientation(pts, img):\n",
        "    \n",
        "    sz = len(pts)\n",
        "    data_pts = np.empty((sz, 2), dtype=np.float64)\n",
        "    for i in range(data_pts.shape[0]):\n",
        "        data_pts[i,0] = pts[i,0,0]\n",
        "        data_pts[i,1] = pts[i,0,1]\n",
        "    # Perform PCA analysis\n",
        "    mean = np.empty((0))\n",
        "    mean, eigenvectors, eigenvalues = cv2.PCACompute2(data_pts, mean)\n",
        "    # Store the center of the object\n",
        "    cntr = (int(mean[0,0]), int(mean[0,1]))\n",
        "    \n",
        "    cv2.circle(img, cntr, 3, (255, 0, 255), 2)\n",
        "    p1 = (cntr[0] + 0.02 * eigenvectors[0,0] * eigenvalues[0,0], cntr[1] + 0.02 * eigenvectors[0,1] * eigenvalues[0,0])\n",
        "    p2 = (cntr[0] - 0.02 * eigenvectors[1,0] * eigenvalues[1,0], cntr[1] - 0.02 * eigenvectors[1,1] * eigenvalues[1,0])\n",
        "    draw_axis(img, cntr, p1, (0, 150, 0), 1)\n",
        "    draw_axis(img, cntr, p2, (200, 150, 0), 5)\n",
        "    angle = atan2(eigenvectors[0,1], eigenvectors[0,0]) # orientation in radians\n",
        "    return angle"
      ]
    },
    {
      "cell_type": "code",
      "execution_count": 4,
      "metadata": {
        "id": "aUc3cEi3ZN6T"
      },
      "outputs": [],
      "source": [
        "# load image\n",
        "src = cv2.imread('neumes/kendima/kendima_1.png')\n",
        "\n",
        "resized = ResizeWithAspectRatio(src, width=500) # Resize by width OR\n",
        "# resize = ResizeWithAspectRatio(image, height=1280) # Resize by height \n",
        "\n",
        "# cv2.imshow('test', resized)\n",
        "# cv2.waitKey(0)"
      ]
    },
    {
      "cell_type": "code",
      "execution_count": 5,
      "metadata": {
        "id": "t5xi_Gvjc9m_"
      },
      "outputs": [],
      "source": [
        "# convert to gray scale\n",
        "gray = cv2.cvtColor(src, cv2.COLOR_BGR2GRAY)\n",
        "\n",
        "thresh = cv2.threshold(gray, 0, 255, cv2.THRESH_BINARY_INV | cv2.THRESH_OTSU)[1]  \n",
        "# calculating Contours\n",
        "contours, _ = cv2.findContours(thresh, cv2.RETR_LIST, cv2.CHAIN_APPROX_NONE)"
      ]
    },
    {
      "cell_type": "code",
      "execution_count": 6,
      "metadata": {
        "colab": {
          "base_uri": "https://localhost:8080/",
          "height": 767
        },
        "id": "HjD7y6Ffd0hI",
        "outputId": "6e0f71f6-25e2-46b4-9e94-8a424341df76"
      },
      "outputs": [
        {
          "name": "stdout",
          "output_type": "stream",
          "text": [
            "0.9698110505208959\n"
          ]
        }
      ],
      "source": [
        "for i,c in enumerate(contours):\n",
        "  # area of each contour\n",
        "  area = cv2.contourArea(c)\n",
        "  # ignore contour which is too small or large\n",
        "  if area < 1e2 or 1e5 < area:\n",
        "    continue\n",
        "\n",
        "  # draw each contour only for visualization\n",
        "  cv2.drawContours(src, contours, i, (0, 0, 255), 2)\n",
        "  # find orientation of each shape\n",
        "  print(get_orientation(c,src))\n",
        "\n",
        "\n",
        "# resized = ResizeWithAspectRatio(src, width=500) # Resize by width OR\n",
        "# resize = ResizeWithAspectRatio(image, height=1280) # Resize by height \n",
        "\n",
        "# cv2.imshow('Plot', resized)\n",
        "# cv2.waitKey(0)"
      ]
    },
    {
      "cell_type": "code",
      "execution_count": 7,
      "metadata": {
        "colab": {
          "base_uri": "https://localhost:8080/"
        },
        "id": "D4loxJB1-KR4",
        "outputId": "a8772893-7ea1-4730-fe14-d5cb354a89ac"
      },
      "outputs": [
        {
          "data": {
            "text/plain": [
              "55.566080119995995"
            ]
          },
          "execution_count": 7,
          "metadata": {},
          "output_type": "execute_result"
        }
      ],
      "source": [
        "get_orientation(c,src) * 180/pi"
      ]
    },
    {
      "cell_type": "code",
      "execution_count": null,
      "metadata": {
        "id": "tfCH3sC4-Li0"
      },
      "outputs": [],
      "source": []
    }
  ],
  "metadata": {
    "colab": {
      "collapsed_sections": [],
      "name": "Detecting object orientation using PCA and OpenCV.ipynb",
      "provenance": []
    },
    "interpreter": {
      "hash": "635cacf90e2ebd933d69347cf5f0e366ac0738a02becbb069b8cf9e68d978af5"
    },
    "kernelspec": {
      "display_name": "Python 3",
      "language": "python",
      "name": "python388jvsc74a57bd0635cacf90e2ebd933d69347cf5f0e366ac0738a02becbb069b8cf9e68d978af5"
    },
    "language_info": {
      "codemirror_mode": {
        "name": "ipython",
        "version": 3
      },
      "file_extension": ".py",
      "mimetype": "text/x-python",
      "name": "python",
      "nbconvert_exporter": "python",
      "pygments_lexer": "ipython3",
      "version": "3.8.8"
    }
  },
  "nbformat": 4,
  "nbformat_minor": 0
}
