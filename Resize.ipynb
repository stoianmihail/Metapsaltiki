{
 "cells": [
  {
   "cell_type": "code",
   "execution_count": 1,
   "metadata": {},
   "outputs": [],
   "source": [
    "from PIL import Image\n",
    "import numpy as np\n",
    "import cv2\n",
    "\n",
    "def convert_to_thresh(img):\n",
    "  gray = cv2.cvtColor(np.array(img.convert('RGB'))[:, :, ::-1].copy(), cv2.COLOR_BGR2GRAY)\n",
    "  thresh = cv2.threshold(gray, 0, 255, cv2.THRESH_BINARY_INV | cv2.THRESH_OTSU)[1]  \n",
    "  thresh[thresh == 255] = 1\n",
    "  return thresh\n",
    "\n",
    "class MyImage:\n",
    "  def __init__(self, src):\n",
    "    self.raw = Image.open(src)\n",
    "    self.thresh = convert_to_thresh(self.raw)\n",
    "    self.height, self.width = self.thresh.shape\n",
    "    (_, _, self.ccs, _) = cv2.connectedComponentsWithStats(self.thresh, 8, cv2.CV_32S)\n",
    "    assert len(self.ccs) == 2\n",
    "    self.neume_loc = self.ccs[0]\n",
    "    if self.ccs[1][-1] < self.neume_loc[-1]:\n",
    "      self.neume_loc = self.ccs[1]\n",
    "    (self.x, self.y, self.w, self.h, self.a) = self.neume_loc\n",
    "\n",
    "    self.neume = self.thresh[self.y : self.y + self.h, self.x : self.x + self.w]\n",
    "\n",
    "  def resize_neume(self, other):\n",
    "    rh = other.h / self.h\n",
    "    rw = other.w / self.w\n",
    "\n",
    "    print(f'rh={rh}, rw={rw}, self.a={self.a}, other.a={other.a}')\n",
    "\n",
    "    self.resized_a = self.a * rh * rw\n",
    "    self.resized = cv2.resize(self.neume, other.neume.shape[::-1], interpolation = cv2.INTER_AREA)\n",
    "\n",
    "  def compute_similarity(self, other):\n",
    "    from scipy import signal\n",
    "    # return np.sum(self.resized * other.neume) / max(other.a\n",
    "    def compute_hist_loss(a):\n",
    "      h1 = np.sum(self.resized, axis=a)\n",
    "      h2 = np.sum(other.neume, axis=a)\n",
    "      return np.mean(np.square(h1 - h2))\n",
    "\n",
    "    return compute_hist_loss(0) + compute_hist_loss(1)\n",
    "\n",
    "    new_img = signal.fftconvolve(self.resized, other.neume, mode='valid')\n",
    "    print(f'shape={new_img.shape}')\n",
    "\n",
    "    print(f'self.resized_a={self.resized_a}, other.a={other.a}')\n",
    "    print(f'value={new_img[0][0]}')\n",
    "\n",
    "    return new_img[0][0] / max(self.resized_a, other.a)\n",
    "\n",
    "  def plot_neume(self):\n",
    "    import matplotlib.pyplot as plt\n",
    "    import matplotlib.patches as patches\n",
    "\n",
    "    # Display the image\n",
    "    x0, x1 = self.x, self.x + self.w\n",
    "    y0, y1 = self.y, self.y + self.h\n",
    "    # Create figure and axes\n",
    "    fig, ax = plt.subplots(figsize=(self.h / 10, self.w / 10))\n",
    "\n",
    "    ax.imshow(self.thresh[y0 : y1, x0 : x1])\n",
    "    plt.show()  \n",
    "\n",
    "  def plot_resized_neume(self):\n",
    "    import matplotlib.pyplot as plt\n",
    "    import matplotlib.patches as patches\n",
    "\n",
    "    # Create figure and axes\n",
    "    print(f'shape={self.resized.shape}')\n",
    "    fig, ax = plt.subplots(figsize=(self.resized.shape[0] / 10, self.resized.shape[1] / 10))\n",
    "    ax.imshow(self.resized)\n",
    "    plt.show()\n",
    "\n",
    "  def plot_ccs(self):\n",
    "    import matplotlib.pyplot as plt\n",
    "    import matplotlib.patches as patches\n",
    "\n",
    "    # Create figure and axes\n",
    "    fig, ax = plt.subplots(figsize=(self.height / 10, self.width / 10))\n",
    "\n",
    "    # Display the image\n",
    "    ax.imshow(self.raw)\n",
    "\n",
    "    # Create a Rectangle patch\n",
    "    for index, (x, y, w, h, a) in enumerate(self.ccs):\n",
    "      rect = patches.Rectangle((x, y), w, h, linewidth=1, edgecolor='r', facecolor='none', label=f'{index}')\n",
    "      ax.add_patch(rect)\n",
    "      # rx, ry = rect.get_xy()\n",
    "      # cx = rx + rect.get_width() / 2.0\n",
    "      # cy = ry + rect.get_height() / 2.0\n",
    "      # ax.annotate(f'{index}', (cx, cy), color='green', weight='bold', fontsize=16, ha='center', va='center')\n",
    "    plt.show()\n",
    "      \n",
    "\n",
    "img1 = MyImage('neumes/psiphiston/psiphiston_1.png')\n",
    "img2 = MyImage('neumes/petasti/petasti_1.png')"
   ]
  },
  {
   "cell_type": "code",
   "execution_count": 2,
   "metadata": {},
   "outputs": [
    {
     "data": {
      "image/png": "[encoded data removed]",
      "text/plain": [
       "<Figure size 432x1324.8 with 1 Axes>"
      ]
     },
     "metadata": {
      "needs_background": "light"
     },
     "output_type": "display_data"
    }
   ],
   "source": [
    "img1.plot_neume()"
   ]
  },
  {
   "cell_type": "code",
   "execution_count": 3,
   "metadata": {},
   "outputs": [
    {
     "data": {
      "image/png": "[encoded data removed]",
      "text/plain": [
       "<Figure size 338.4x1008 with 1 Axes>"
      ]
     },
     "metadata": {
      "needs_background": "light"
     },
     "output_type": "display_data"
    }
   ],
   "source": [
    "img2.plot_neume()"
   ]
  },
  {
   "cell_type": "code",
   "execution_count": 4,
   "metadata": {},
   "outputs": [
    {
     "name": "stdout",
     "output_type": "stream",
     "text": [
      "rh=1.2765957446808511, rw=1.3142857142857143, self.a=1684, other.a=1872\n"
     ]
    }
   ],
   "source": [
    "img2.resize_neume(img1)"
   ]
  },
  {
   "cell_type": "code",
   "execution_count": 5,
   "metadata": {},
   "outputs": [
    {
     "name": "stdout",
     "output_type": "stream",
     "text": [
      "shape=(60, 184)\n"
     ]
    },
    {
     "data": {
      "image/png": "[encoded data removed]",
      "text/plain": [
       "<Figure size 432x1324.8 with 1 Axes>"
      ]
     },
     "metadata": {
      "needs_background": "light"
     },
     "output_type": "display_data"
    }
   ],
   "source": [
    "img2.plot_resized_neume()"
   ]
  },
  {
   "cell_type": "code",
   "execution_count": 6,
   "metadata": {},
   "outputs": [
    {
     "name": "stdout",
     "output_type": "stream",
     "text": [
      "711.6844202898551\n"
     ]
    }
   ],
   "source": [
    "# import matplotlib.pyplot as plt\n",
    "# from scipy import signal\n",
    "# print(resized.shape)\n",
    "# print(img1[:,:,np.newaxis].shape)\n",
    "# new_img = signal.fftconvolve(resized, img1, mode='same')\n",
    "# index = np.unravel_index(np.argmax(new_img), new_img.shape)\n",
    "# print(f'index={index}')\n",
    "# plt.figure()\n",
    "# plt.imshow(new_img)\n",
    "print(img2.compute_similarity(img1))"
   ]
  }
 ],
 "metadata": {
  "interpreter": {
   "hash": "635cacf90e2ebd933d69347cf5f0e366ac0738a02becbb069b8cf9e68d978af5"
  },
  "kernelspec": {
   "display_name": "Python 3.8.8 64-bit ('base': conda)",
   "language": "python",
   "name": "python388jvsc74a57bd0635cacf90e2ebd933d69347cf5f0e366ac0738a02becbb069b8cf9e68d978af5"
  },
  "language_info": {
   "codemirror_mode": {
    "name": "ipython",
    "version": 3
   },
   "file_extension": ".py",
   "mimetype": "text/x-python",
   "name": "python",
   "nbconvert_exporter": "python",
   "pygments_lexer": "ipython3",
   "version": "3.8.8"
  },
  "orig_nbformat": 4
 },
 "nbformat": 4,
 "nbformat_minor": 2
}
