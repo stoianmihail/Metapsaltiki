{
 "cells": [
  {
   "cell_type": "code",
   "execution_count": 1,
   "metadata": {},
   "outputs": [
    {
     "name": "stdout",
     "output_type": "stream",
     "text": [
      "angle=45\n",
      "angle=-45\n"
     ]
    },
    {
     "data": {
      "text/plain": [
       "True"
      ]
     },
     "execution_count": 1,
     "metadata": {},
     "output_type": "execute_result"
    }
   ],
   "source": [
    "# This programs calculates the orientation of an object.\n",
    "# The input is an image, and the output is an annotated image\n",
    "# with the angle of otientation for each object (0 to 180 degrees)\n",
    " \n",
    "import cv2 as cv\n",
    "from math import atan2, cos, sin, sqrt, pi\n",
    "import numpy as np\n",
    " \n",
    "# Load the image\n",
    "img = cv.imread('neumes/stavros/stavros_1.png')\n",
    " \n",
    "# Was the image there?\n",
    "if img is None:\n",
    "  print(\"Error: File not found\")\n",
    "  exit(0)\n",
    " \n",
    "#cv.imshow('Input Image', img)\n",
    " \n",
    "# Convert image to grayscale\n",
    "gray = cv.cvtColor(img, cv.COLOR_BGR2GRAY)\n",
    " \n",
    "# Convert image to binary\n",
    "thresh = cv.threshold(gray, 0, 255, cv.THRESH_BINARY_INV | cv.THRESH_OTSU)[1]  \n",
    " \n",
    "# Find all the contours in the thresholded image\n",
    "contours, _ = cv.findContours(thresh, cv.RETR_LIST, cv.CHAIN_APPROX_NONE)\n",
    " \n",
    "for i, c in enumerate(contours):\n",
    " \n",
    "  # Calculate the area of each contour\n",
    "  area = cv.contourArea(c)\n",
    " \n",
    "  # cv.minAreaRect returns:\n",
    "  # (center(x, y), (width, height), angle of rotation) = cv2.minAreaRect(c)\n",
    "  rect = cv.minAreaRect(c)\n",
    "  box = cv.boxPoints(rect)\n",
    "  box = np.int0(box)\n",
    " \n",
    "  # Retrieve the key parameters of the rotated bounding box\n",
    "  center = (int(rect[0][0]),int(rect[0][1])) \n",
    "  width = int(rect[1][0])\n",
    "  height = int(rect[1][1])\n",
    "  angle = int(rect[2])\n",
    " \n",
    "     \n",
    "  print(f'angle={angle}')\n",
    "\n",
    "  if width < height:\n",
    "    angle = 90 - angle\n",
    "  else:\n",
    "    angle = -angle\n",
    "\n",
    "  print(f'angle={angle}')\n",
    "\n",
    "  # label = \"  Rotation Angle: \" + str(angle) + \" degrees\"\n",
    "  # textbox = cv.rectangle(img, (center[0]-35, center[1]-25), \n",
    "  #   (center[0] + 295, center[1] + 10), (255,255,255), -1)\n",
    "  # cv.putText(img, label, (center[0]-50, center[1]), \n",
    "  #   cv.FONT_HERSHEY_SIMPLEX, 0.7, (0,0,0), 1, cv.LINE_AA)\n",
    "  # cv.drawContours(img,[box],0,(0,0,255),2)\n",
    " \n",
    "#cv.imshow('Output Image', img)\n",
    "#cv.waitKey(0)\n",
    "  \n",
    "# Save the output image to the current directory\n",
    "cv.imwrite(\"min_area_rec_output.jpg\", img)"
   ]
  }
 ],
 "metadata": {
  "interpreter": {
   "hash": "635cacf90e2ebd933d69347cf5f0e366ac0738a02becbb069b8cf9e68d978af5"
  },
  "kernelspec": {
   "display_name": "Python 3.8.8 ('base')",
   "language": "python",
   "name": "python388jvsc74a57bd0635cacf90e2ebd933d69347cf5f0e366ac0738a02becbb069b8cf9e68d978af5"
  },
  "language_info": {
   "codemirror_mode": {
    "name": "ipython",
    "version": 3
   },
   "file_extension": ".py",
   "mimetype": "text/x-python",
   "name": "python",
   "nbconvert_exporter": "python",
   "pygments_lexer": "ipython3",
   "version": "3.8.8"
  },
  "orig_nbformat": 4
 },
 "nbformat": 4,
 "nbformat_minor": 2
}
