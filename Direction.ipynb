{
 "cells": [
  {
   "cell_type": "code",
   "execution_count": 1,
   "metadata": {},
   "outputs": [],
   "source": [
    "import numpy as np\n",
    "# to compute angles\n",
    "from math import atan2, cos, sin, sqrt, pi\n",
    "import cv2\n",
    "from PIL import Image\n",
    "\n",
    "def convert_to_thresh(img):\n",
    "  gray = cv2.cvtColor(np.array(img.convert('RGB'))[:, :, ::-1].copy(), cv2.COLOR_BGR2GRAY)\n",
    "  thresh = cv2.threshold(gray, 0, 255, cv2.THRESH_BINARY_INV | cv2.THRESH_OTSU)[1]  \n",
    "  thresh[thresh == 255] = 1\n",
    "  return thresh\n",
    "\n",
    "class MyImage:\n",
    "  def __init__(self, src):\n",
    "    self.raw = Image.open(src)\n",
    "    self.thresh = convert_to_thresh(self.raw)\n",
    "    self.contours, _ = cv2.findContours(self.thresh, cv2.RETR_LIST, cv2.CHAIN_APPROX_NONE)\n",
    "\n",
    "  def get_orientation(self, pts):\n",
    "      sz = len(pts)\n",
    "      data_pts = np.empty((sz, 2), dtype=np.float64)\n",
    "      for i in range(data_pts.shape[0]):\n",
    "          data_pts[i,0] = pts[i,0,0]\n",
    "          data_pts[i,1] = pts[i,0,1]\n",
    "      # Perform PCA analysis\n",
    "      mean = np.empty((0))\n",
    "      mean, eigenvectors, eigenvalues = cv2.PCACompute2(data_pts, mean)\n",
    "\n",
    "      cv2.circle(img, cntr, 3, (255, 0, 255), 2)\n",
    "      p1 = (cntr[0] + 0.02 * eigenvectors[0,0] * eigenvalues[0,0], cntr[1] + 0.02 * eigenvectors[0,1] * eigenvalues[0,0])\n",
    "      p2 = (cntr[0] - 0.02 * eigenvectors[1,0] * eigenvalues[1,0], cntr[1] - 0.02 * eigenvectors[1,1] * eigenvalues[1,0])\n",
    "      draw_axis(img, cntr, p1, (0, 150, 0), 1)\n",
    "      draw_axis(img, cntr, p2, (200, 150, 0), 5)\n",
    "      angle = atan2(eigenvectors[0,1], eigenvectors[0,0]) # orientation in radians\n",
    "      return angle\n",
    "\n",
    "  def plot_contours(self):\n",
    "    for i,c in enumerate(self.contours):\n",
    "      # area of each contour\n",
    "      area = cv2.contourArea(c)\n",
    "\n",
    "      # draw each contour only for visualization\n",
    "      cv2.drawContours(self.thresh, self.contours, i, (0, 0, 255), 2)\n",
    "      # find orientation of each shape\n",
    "      print(self.get_orientation(c))"
   ]
  },
  {
   "cell_type": "code",
   "execution_count": 5,
   "metadata": {},
   "outputs": [
    {
     "name": "stdout",
     "output_type": "stream",
     "text": [
      "0.06534072943271423\n"
     ]
    }
   ],
   "source": [
    "img = MyImage('neumes/elaphron/elaphron_2.png')\n",
    "img.plot_contours()"
   ]
  }
 ],
 "metadata": {
  "interpreter": {
   "hash": "635cacf90e2ebd933d69347cf5f0e366ac0738a02becbb069b8cf9e68d978af5"
  },
  "kernelspec": {
   "display_name": "Python 3.8.8 64-bit ('base': conda)",
   "language": "python",
   "name": "python388jvsc74a57bd0635cacf90e2ebd933d69347cf5f0e366ac0738a02becbb069b8cf9e68d978af5"
  },
  "language_info": {
   "codemirror_mode": {
    "name": "ipython",
    "version": 3
   },
   "file_extension": ".py",
   "mimetype": "text/x-python",
   "name": "python",
   "nbconvert_exporter": "python",
   "pygments_lexer": "ipython3",
   "version": "3.8.8"
  },
  "orig_nbformat": 4
 },
 "nbformat": 4,
 "nbformat_minor": 2
}
